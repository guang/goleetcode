{
 "cells": [
  {
   "cell_type": "code",
   "execution_count": 1,
   "metadata": {
    "collapsed": true
   },
   "outputs": [],
   "source": [
    "class Solution(object):\n",
    "    def lengthOfLongestSubstring(self, s):\n",
    "        \"\"\"\n",
    "        :type s: str\n",
    "        :rtype: int\n",
    "        \"\"\"\n",
    "        ans, start, end = 0, 0, 0\n",
    "        countDict = {}\n",
    "        for c in s:\n",
    "            end += 1\n",
    "            countDict[c] = countDict.get(c, 0) + 1\n",
    "            while countDict[c] > 1:\n",
    "                countDict[s[start]] -= 1\n",
    "                start += 1\n",
    "            ans = max(ans, end - start)\n",
    "        return ans"
   ]
  },
  {
   "cell_type": "code",
   "execution_count": 3,
   "metadata": {},
   "outputs": [
    {
     "name": "stdout",
     "output_type": "stream",
     "text": [
      "Writing lengthOfLongestSubstring.py\n"
     ]
    }
   ],
   "source": [
    "%%writefile lengthOfLongestSubstring.py\n",
    "def lengthOfLongestSubstring(self, s):\n",
    "    \"\"\"\n",
    "    :type s: str\n",
    "    :rtype: int\n",
    "    \"\"\"\n",
    "    ans, start, end = 0, 0, 0\n",
    "    countDict = {}\n",
    "    for c in s:\n",
    "        end += 1\n",
    "        countDict[c] = countDict.get(c, 0) + 1\n",
    "        while countDict[c] > 1:\n",
    "            countDict[s[start]] -= 1\n",
    "            start += 1\n",
    "        ans = max(ans, end - start)\n",
    "    return ans"
   ]
  },
  {
   "cell_type": "code",
   "execution_count": null,
   "metadata": {
    "collapsed": true
   },
   "outputs": [],
   "source": []
  }
 ],
 "metadata": {
  "kernelspec": {
   "display_name": "Python 2",
   "language": "python",
   "name": "python2"
  },
  "language_info": {
   "codemirror_mode": {
    "name": "ipython",
    "version": 2
   },
   "file_extension": ".py",
   "mimetype": "text/x-python",
   "name": "python",
   "nbconvert_exporter": "python",
   "pygments_lexer": "ipython2",
   "version": "2.7.13"
  }
 },
 "nbformat": 4,
 "nbformat_minor": 2
}
