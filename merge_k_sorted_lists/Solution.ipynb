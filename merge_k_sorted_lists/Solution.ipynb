{
 "cells": [
  {
   "cell_type": "code",
   "execution_count": 1,
   "metadata": {
    "collapsed": true
   },
   "outputs": [],
   "source": [
    "# Definition for singly-linked list.\n",
    "# class ListNode(object):\n",
    "#     def __init__(self, x):\n",
    "#         self.val = x\n",
    "#         self.next = None\n",
    "\n",
    "class Solution(object):\n",
    "    def mergeKLists(self, lists):\n",
    "        \"\"\"\n",
    "        :type lists: List[ListNode]\n",
    "        :rtype: ListNode\n",
    "        \"\"\"\n",
    "        # = len(lists) # Get the number of lists\n",
    "        if len(lists) == 0:\n",
    "            return None\n",
    "        while len(lists) > 1: \n",
    "            nextList = []\n",
    "            for i in range(0, len(lists) - 1, 2):\n",
    "                nextList.append(self.mergeTwoLists(lists[i], lists[i+1]))\n",
    "            if  len(lists) % 2 == 1:\n",
    "                nextList.append(lists[len(lists) - 1])\n",
    "            lists = nextList\n",
    "        return lists[0]\n",
    "\n",
    "    def mergeTwoLists(self, l1, l2):\n",
    "        \"\"\"\n",
    "        :type l1: ListNode\n",
    "        :type l2: ListNode\n",
    "        :rtype: ListNode\n",
    "        \"\"\"\n",
    "        if l1 == None:\n",
    "            return l2\n",
    "        if l2 == None:\n",
    "            return l1\n",
    "        dummy = ListNode(0)\n",
    "        tmp = dummy \n",
    "        \n",
    "        while l1 != None and l2 != None: \n",
    "            if l1.val <= l2.val:\n",
    "                tmp.next = l1\n",
    "                l1 = l1.next\n",
    "            else:\n",
    "                tmp.next = l2\n",
    "                l2 = l2.next\n",
    "            tmp = tmp.next\n",
    "        \n",
    "        if l2 == None:\n",
    "            tmp.next = l1\n",
    "        else: \n",
    "            tmp.next = l2\n",
    "        return dummy.next\n",
    "        "
   ]
  },
  {
   "cell_type": "code",
   "execution_count": 3,
   "metadata": {},
   "outputs": [
    {
     "name": "stdout",
     "output_type": "stream",
     "text": [
      "Writing mergeKLists.py\n"
     ]
    }
   ],
   "source": [
    "%%writefile mergeKLists.py\n",
    "def mergeKLists(self, lists):\n",
    "    \"\"\"\n",
    "    :type lists: List[ListNode]\n",
    "    :rtype: ListNode\n",
    "    \"\"\"\n",
    "    # = len(lists) # Get the number of lists\n",
    "    if len(lists) == 0:\n",
    "        return None\n",
    "    while len(lists) > 1: \n",
    "        nextList = []\n",
    "        for i in range(0, len(lists) - 1, 2):\n",
    "            nextList.append(self.mergeTwoLists(lists[i], lists[i+1]))\n",
    "        if  len(lists) % 2 == 1:\n",
    "            nextList.append(lists[len(lists) - 1])\n",
    "        lists = nextList\n",
    "    return lists[0]\n",
    "\n",
    "def mergeTwoLists(self, l1, l2):\n",
    "    \"\"\"\n",
    "    :type l1: ListNode\n",
    "    :type l2: ListNode\n",
    "    :rtype: ListNode\n",
    "    \"\"\"\n",
    "    if l1 == None:\n",
    "        return l2\n",
    "    if l2 == None:\n",
    "        return l1\n",
    "    dummy = ListNode(0)\n",
    "    tmp = dummy \n",
    "    \n",
    "    while l1 != None and l2 != None: \n",
    "        if l1.val <= l2.val:\n",
    "            tmp.next = l1\n",
    "            l1 = l1.next\n",
    "        else:\n",
    "            tmp.next = l2\n",
    "            l2 = l2.next\n",
    "        tmp = tmp.next\n",
    "        \n",
    "    if l2 == None:\n",
    "        tmp.next = l1\n",
    "    else: \n",
    "        tmp.next = l2\n",
    "    return dummy.next\n",
    "        "
   ]
  },
  {
   "cell_type": "code",
   "execution_count": null,
   "metadata": {
    "collapsed": true
   },
   "outputs": [],
   "source": []
  }
 ],
 "metadata": {
  "kernelspec": {
   "display_name": "Python 2",
   "language": "python",
   "name": "python2"
  },
  "language_info": {
   "codemirror_mode": {
    "name": "ipython",
    "version": 2
   },
   "file_extension": ".py",
   "mimetype": "text/x-python",
   "name": "python",
   "nbconvert_exporter": "python",
   "pygments_lexer": "ipython2",
   "version": "2.7.13"
  }
 },
 "nbformat": 4,
 "nbformat_minor": 2
}
